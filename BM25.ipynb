{
  "nbformat": 4,
  "nbformat_minor": 0,
  "metadata": {
    "colab": {
      "provenance": []
    },
    "kernelspec": {
      "name": "python3",
      "display_name": "Python 3"
    },
    "language_info": {
      "name": "python"
    }
  },
  "cells": [
    {
      "cell_type": "code",
      "source": [
        "from google.colab import drive\n",
        "drive.mount('/content/drive', force_remount=True)"
      ],
      "metadata": {
        "colab": {
          "base_uri": "https://localhost:8080/"
        },
        "id": "DWyop13InRV8",
        "outputId": "f265c118-f079-46e4-b108-26f720c02c9c"
      },
      "execution_count": 1,
      "outputs": [
        {
          "output_type": "stream",
          "name": "stdout",
          "text": [
            "Mounted at /content/drive\n"
          ]
        }
      ]
    },
    {
      "cell_type": "code",
      "source": [],
      "metadata": {
        "id": "L2Xsl5nw_WrH"
      },
      "execution_count": null,
      "outputs": []
    },
    {
      "cell_type": "code",
      "source": [
        "%%capture\n",
        "!pip install rank-bm25"
      ],
      "metadata": {
        "id": "r_FJ8V40Q73a"
      },
      "execution_count": 2,
      "outputs": []
    },
    {
      "cell_type": "code",
      "source": [
        "import numpy as np\n",
        "import pandas as pd\n",
        "from rank_bm25 import BM25Okapi\n",
        "import pickle\n",
        "import nltk\n",
        "from nltk.corpus import stopwords\n",
        "from nltk.tokenize import word_tokenize\n",
        "from nltk.tokenize import RegexpTokenizer\n",
        "from nltk.corpus import wordnet\n",
        "from nltk.stem import WordNetLemmatizer\n",
        "from gensim.utils import simple_preprocess\n",
        "from gensim.parsing.preprocessing import preprocess_documents, preprocess_string"
      ],
      "metadata": {
        "id": "MpuYEqWo_NbQ"
      },
      "execution_count": 3,
      "outputs": []
    },
    {
      "cell_type": "code",
      "source": [
        "nltk.download('punkt')\n",
        "nltk.download('stopwords')\n",
        "nltk.download('wordnet')"
      ],
      "metadata": {
        "colab": {
          "base_uri": "https://localhost:8080/"
        },
        "id": "NOp8eg7N_nQ3",
        "outputId": "a6107ff9-15f1-4fb3-acf6-7661a807f702"
      },
      "execution_count": 4,
      "outputs": [
        {
          "output_type": "stream",
          "name": "stderr",
          "text": [
            "[nltk_data] Downloading package punkt to /root/nltk_data...\n",
            "[nltk_data]   Package punkt is already up-to-date!\n",
            "[nltk_data] Downloading package stopwords to /root/nltk_data...\n",
            "[nltk_data]   Package stopwords is already up-to-date!\n",
            "[nltk_data] Downloading package wordnet to /root/nltk_data...\n",
            "[nltk_data]   Package wordnet is already up-to-date!\n"
          ]
        },
        {
          "output_type": "execute_result",
          "data": {
            "text/plain": [
              "True"
            ]
          },
          "metadata": {},
          "execution_count": 4
        }
      ]
    },
    {
      "cell_type": "code",
      "source": [
        "csv_file_path = \"/content/drive/MyDrive/IR_PROJECT_DATASET/ILDC_multi.csv\"\n",
        "df = pd.read_csv(csv_file_path)"
      ],
      "metadata": {
        "id": "mTWmOgRQ_uIz"
      },
      "execution_count": 5,
      "outputs": []
    },
    {
      "cell_type": "code",
      "source": [
        "df.head()"
      ],
      "metadata": {
        "colab": {
          "base_uri": "https://localhost:8080/",
          "height": 206
        },
        "id": "LNfp8Ff2X2Hq",
        "outputId": "34a9e205-528c-4916-d816-3295fbc80748"
      },
      "execution_count": 19,
      "outputs": [
        {
          "output_type": "execute_result",
          "data": {
            "text/plain": [
              "                                                text  label  split        name\n",
              "0   Uday Umesh Lalit, J. These appeals arise out ...      0  train  2020_1.txt\n",
              "1   Indira Banerjee, J. These appeals are against...      0  train  2020_2.txt\n",
              "2  TABLE OF CONTENTS Introduction A Contentions B...      0  train  2020_3.txt\n",
              "3   Dinesh Maheshwari, J. Introductory with brief...      0  train  2020_4.txt\n",
              "4   Dinesh Maheshwari, J. Preliminary By way of t...      0  train  2020_5.txt"
            ],
            "text/html": [
              "\n",
              "  <div id=\"df-3b921e58-5450-4a8d-ab90-85d487d43058\" class=\"colab-df-container\">\n",
              "    <div>\n",
              "<style scoped>\n",
              "    .dataframe tbody tr th:only-of-type {\n",
              "        vertical-align: middle;\n",
              "    }\n",
              "\n",
              "    .dataframe tbody tr th {\n",
              "        vertical-align: top;\n",
              "    }\n",
              "\n",
              "    .dataframe thead th {\n",
              "        text-align: right;\n",
              "    }\n",
              "</style>\n",
              "<table border=\"1\" class=\"dataframe\">\n",
              "  <thead>\n",
              "    <tr style=\"text-align: right;\">\n",
              "      <th></th>\n",
              "      <th>text</th>\n",
              "      <th>label</th>\n",
              "      <th>split</th>\n",
              "      <th>name</th>\n",
              "    </tr>\n",
              "  </thead>\n",
              "  <tbody>\n",
              "    <tr>\n",
              "      <th>0</th>\n",
              "      <td>Uday Umesh Lalit, J. These appeals arise out ...</td>\n",
              "      <td>0</td>\n",
              "      <td>train</td>\n",
              "      <td>2020_1.txt</td>\n",
              "    </tr>\n",
              "    <tr>\n",
              "      <th>1</th>\n",
              "      <td>Indira Banerjee, J. These appeals are against...</td>\n",
              "      <td>0</td>\n",
              "      <td>train</td>\n",
              "      <td>2020_2.txt</td>\n",
              "    </tr>\n",
              "    <tr>\n",
              "      <th>2</th>\n",
              "      <td>TABLE OF CONTENTS Introduction A Contentions B...</td>\n",
              "      <td>0</td>\n",
              "      <td>train</td>\n",
              "      <td>2020_3.txt</td>\n",
              "    </tr>\n",
              "    <tr>\n",
              "      <th>3</th>\n",
              "      <td>Dinesh Maheshwari, J. Introductory with brief...</td>\n",
              "      <td>0</td>\n",
              "      <td>train</td>\n",
              "      <td>2020_4.txt</td>\n",
              "    </tr>\n",
              "    <tr>\n",
              "      <th>4</th>\n",
              "      <td>Dinesh Maheshwari, J. Preliminary By way of t...</td>\n",
              "      <td>0</td>\n",
              "      <td>train</td>\n",
              "      <td>2020_5.txt</td>\n",
              "    </tr>\n",
              "  </tbody>\n",
              "</table>\n",
              "</div>\n",
              "    <div class=\"colab-df-buttons\">\n",
              "\n",
              "  <div class=\"colab-df-container\">\n",
              "    <button class=\"colab-df-convert\" onclick=\"convertToInteractive('df-3b921e58-5450-4a8d-ab90-85d487d43058')\"\n",
              "            title=\"Convert this dataframe to an interactive table.\"\n",
              "            style=\"display:none;\">\n",
              "\n",
              "  <svg xmlns=\"http://www.w3.org/2000/svg\" height=\"24px\" viewBox=\"0 -960 960 960\">\n",
              "    <path d=\"M120-120v-720h720v720H120Zm60-500h600v-160H180v160Zm220 220h160v-160H400v160Zm0 220h160v-160H400v160ZM180-400h160v-160H180v160Zm440 0h160v-160H620v160ZM180-180h160v-160H180v160Zm440 0h160v-160H620v160Z\"/>\n",
              "  </svg>\n",
              "    </button>\n",
              "\n",
              "  <style>\n",
              "    .colab-df-container {\n",
              "      display:flex;\n",
              "      gap: 12px;\n",
              "    }\n",
              "\n",
              "    .colab-df-convert {\n",
              "      background-color: #E8F0FE;\n",
              "      border: none;\n",
              "      border-radius: 50%;\n",
              "      cursor: pointer;\n",
              "      display: none;\n",
              "      fill: #1967D2;\n",
              "      height: 32px;\n",
              "      padding: 0 0 0 0;\n",
              "      width: 32px;\n",
              "    }\n",
              "\n",
              "    .colab-df-convert:hover {\n",
              "      background-color: #E2EBFA;\n",
              "      box-shadow: 0px 1px 2px rgba(60, 64, 67, 0.3), 0px 1px 3px 1px rgba(60, 64, 67, 0.15);\n",
              "      fill: #174EA6;\n",
              "    }\n",
              "\n",
              "    .colab-df-buttons div {\n",
              "      margin-bottom: 4px;\n",
              "    }\n",
              "\n",
              "    [theme=dark] .colab-df-convert {\n",
              "      background-color: #3B4455;\n",
              "      fill: #D2E3FC;\n",
              "    }\n",
              "\n",
              "    [theme=dark] .colab-df-convert:hover {\n",
              "      background-color: #434B5C;\n",
              "      box-shadow: 0px 1px 3px 1px rgba(0, 0, 0, 0.15);\n",
              "      filter: drop-shadow(0px 1px 2px rgba(0, 0, 0, 0.3));\n",
              "      fill: #FFFFFF;\n",
              "    }\n",
              "  </style>\n",
              "\n",
              "    <script>\n",
              "      const buttonEl =\n",
              "        document.querySelector('#df-3b921e58-5450-4a8d-ab90-85d487d43058 button.colab-df-convert');\n",
              "      buttonEl.style.display =\n",
              "        google.colab.kernel.accessAllowed ? 'block' : 'none';\n",
              "\n",
              "      async function convertToInteractive(key) {\n",
              "        const element = document.querySelector('#df-3b921e58-5450-4a8d-ab90-85d487d43058');\n",
              "        const dataTable =\n",
              "          await google.colab.kernel.invokeFunction('convertToInteractive',\n",
              "                                                    [key], {});\n",
              "        if (!dataTable) return;\n",
              "\n",
              "        const docLinkHtml = 'Like what you see? Visit the ' +\n",
              "          '<a target=\"_blank\" href=https://colab.research.google.com/notebooks/data_table.ipynb>data table notebook</a>'\n",
              "          + ' to learn more about interactive tables.';\n",
              "        element.innerHTML = '';\n",
              "        dataTable['output_type'] = 'display_data';\n",
              "        await google.colab.output.renderOutput(dataTable, element);\n",
              "        const docLink = document.createElement('div');\n",
              "        docLink.innerHTML = docLinkHtml;\n",
              "        element.appendChild(docLink);\n",
              "      }\n",
              "    </script>\n",
              "  </div>\n",
              "\n",
              "\n",
              "<div id=\"df-80862fd4-cb98-458c-9147-d211ccf235cf\">\n",
              "  <button class=\"colab-df-quickchart\" onclick=\"quickchart('df-80862fd4-cb98-458c-9147-d211ccf235cf')\"\n",
              "            title=\"Suggest charts\"\n",
              "            style=\"display:none;\">\n",
              "\n",
              "<svg xmlns=\"http://www.w3.org/2000/svg\" height=\"24px\"viewBox=\"0 0 24 24\"\n",
              "     width=\"24px\">\n",
              "    <g>\n",
              "        <path d=\"M19 3H5c-1.1 0-2 .9-2 2v14c0 1.1.9 2 2 2h14c1.1 0 2-.9 2-2V5c0-1.1-.9-2-2-2zM9 17H7v-7h2v7zm4 0h-2V7h2v10zm4 0h-2v-4h2v4z\"/>\n",
              "    </g>\n",
              "</svg>\n",
              "  </button>\n",
              "\n",
              "<style>\n",
              "  .colab-df-quickchart {\n",
              "      --bg-color: #E8F0FE;\n",
              "      --fill-color: #1967D2;\n",
              "      --hover-bg-color: #E2EBFA;\n",
              "      --hover-fill-color: #174EA6;\n",
              "      --disabled-fill-color: #AAA;\n",
              "      --disabled-bg-color: #DDD;\n",
              "  }\n",
              "\n",
              "  [theme=dark] .colab-df-quickchart {\n",
              "      --bg-color: #3B4455;\n",
              "      --fill-color: #D2E3FC;\n",
              "      --hover-bg-color: #434B5C;\n",
              "      --hover-fill-color: #FFFFFF;\n",
              "      --disabled-bg-color: #3B4455;\n",
              "      --disabled-fill-color: #666;\n",
              "  }\n",
              "\n",
              "  .colab-df-quickchart {\n",
              "    background-color: var(--bg-color);\n",
              "    border: none;\n",
              "    border-radius: 50%;\n",
              "    cursor: pointer;\n",
              "    display: none;\n",
              "    fill: var(--fill-color);\n",
              "    height: 32px;\n",
              "    padding: 0;\n",
              "    width: 32px;\n",
              "  }\n",
              "\n",
              "  .colab-df-quickchart:hover {\n",
              "    background-color: var(--hover-bg-color);\n",
              "    box-shadow: 0 1px 2px rgba(60, 64, 67, 0.3), 0 1px 3px 1px rgba(60, 64, 67, 0.15);\n",
              "    fill: var(--button-hover-fill-color);\n",
              "  }\n",
              "\n",
              "  .colab-df-quickchart-complete:disabled,\n",
              "  .colab-df-quickchart-complete:disabled:hover {\n",
              "    background-color: var(--disabled-bg-color);\n",
              "    fill: var(--disabled-fill-color);\n",
              "    box-shadow: none;\n",
              "  }\n",
              "\n",
              "  .colab-df-spinner {\n",
              "    border: 2px solid var(--fill-color);\n",
              "    border-color: transparent;\n",
              "    border-bottom-color: var(--fill-color);\n",
              "    animation:\n",
              "      spin 1s steps(1) infinite;\n",
              "  }\n",
              "\n",
              "  @keyframes spin {\n",
              "    0% {\n",
              "      border-color: transparent;\n",
              "      border-bottom-color: var(--fill-color);\n",
              "      border-left-color: var(--fill-color);\n",
              "    }\n",
              "    20% {\n",
              "      border-color: transparent;\n",
              "      border-left-color: var(--fill-color);\n",
              "      border-top-color: var(--fill-color);\n",
              "    }\n",
              "    30% {\n",
              "      border-color: transparent;\n",
              "      border-left-color: var(--fill-color);\n",
              "      border-top-color: var(--fill-color);\n",
              "      border-right-color: var(--fill-color);\n",
              "    }\n",
              "    40% {\n",
              "      border-color: transparent;\n",
              "      border-right-color: var(--fill-color);\n",
              "      border-top-color: var(--fill-color);\n",
              "    }\n",
              "    60% {\n",
              "      border-color: transparent;\n",
              "      border-right-color: var(--fill-color);\n",
              "    }\n",
              "    80% {\n",
              "      border-color: transparent;\n",
              "      border-right-color: var(--fill-color);\n",
              "      border-bottom-color: var(--fill-color);\n",
              "    }\n",
              "    90% {\n",
              "      border-color: transparent;\n",
              "      border-bottom-color: var(--fill-color);\n",
              "    }\n",
              "  }\n",
              "</style>\n",
              "\n",
              "  <script>\n",
              "    async function quickchart(key) {\n",
              "      const quickchartButtonEl =\n",
              "        document.querySelector('#' + key + ' button');\n",
              "      quickchartButtonEl.disabled = true;  // To prevent multiple clicks.\n",
              "      quickchartButtonEl.classList.add('colab-df-spinner');\n",
              "      try {\n",
              "        const charts = await google.colab.kernel.invokeFunction(\n",
              "            'suggestCharts', [key], {});\n",
              "      } catch (error) {\n",
              "        console.error('Error during call to suggestCharts:', error);\n",
              "      }\n",
              "      quickchartButtonEl.classList.remove('colab-df-spinner');\n",
              "      quickchartButtonEl.classList.add('colab-df-quickchart-complete');\n",
              "    }\n",
              "    (() => {\n",
              "      let quickchartButtonEl =\n",
              "        document.querySelector('#df-80862fd4-cb98-458c-9147-d211ccf235cf button');\n",
              "      quickchartButtonEl.style.display =\n",
              "        google.colab.kernel.accessAllowed ? 'block' : 'none';\n",
              "    })();\n",
              "  </script>\n",
              "</div>\n",
              "    </div>\n",
              "  </div>\n"
            ],
            "application/vnd.google.colaboratory.intrinsic+json": {
              "type": "dataframe",
              "variable_name": "df",
              "summary": "{\n  \"name\": \"df\",\n  \"rows\": 34816,\n  \"fields\": [\n    {\n      \"column\": \"text\",\n      \"properties\": {\n        \"dtype\": \"string\",\n        \"num_unique_values\": 34188,\n        \"samples\": [\n          \" Heard learned companynsel for the appellant. This Appeal has been filed against the impugned judgment and order dated 25th July, 2007 passed by the High Court of Calcutta in C.R.A. No. 487 of 2004. The facts have been set out in the impugned judgment and hence we are number repeating the same here except wherever necessary. This is a case of brutal murder of a sex worker. Sex workers are also human beings and numberone has a right to assault or murder them. A person becomes a prostitute number because she enjoys it but because of poverty. Society must have sympathy towards the sex workers and must number look down upon them. They are also entitled to a life of dignity in view of Article 21 of the Constitution. In the numberels and stories of the great Bengali Writer Sharat Chand Chattopadhyaya, many prostitutes have been shown to be women of very high character, e.g., Rajyalakshmi in Shrikant, Chandramukhi in Devdas etc. -2- The plight of prostitutes has been depicted by the great Urdu poet Sahil Ludhianvi in his poem Chakle which has been sung in the Hindi film Pyasa Jineh Naaz Hai Hind Per wo kahan hain  simplified version of the verse Sana Khwan- e-taqdees-e-Mashrik Kahan Hain . We may also refer to the character Sonya Marmelodov in Dostoyevskys famous numberel Crime and Punishment. Sonya is depicted as a girl who sacrifices her body to earn some bread for her impoverished family. Reference may also be made to Amrapali, who was a companytemporary of Lord Buddha. In the present case, the incident happened on 17th September, 1999 at about 9.15 p.m. The deceased Chayay Rani Pal alias Buri was living in a red light area and was a resident of Room No.8 of Premises No.19, Jogen Dutta Lane in Calcutta. She was evidently a sex worker. The appellant Budhadev kicked her with fists and legs, and she fell down on the floor. The appellant then caught her by her hair and banged her head against the floor and the wall several times which left the victim bleeding from her ear, numbere and head. The incident was witnessed by four persons, Pw2-Abida, PW4- Maya, PW7-Asha and PW8-Parvati. PW2-Abida has deposed that she saw the appellant- accused catching the victim by her hair and banging her head against the wall. The victim was profusely bleeding through her numbere and mouth. On seeing this, Abida started shouting and then the accused pushed her and went down and fled away. PW8-Parvati saw the victim being mercilessly beaten by the -3- accused-appellant, and the same is the evidence of PW7-Asha. In the post mortem, as many as 11 injuries on the body of the victim were found, eight of which were on various parts of the face and forehead. The police was informed about the incident over the telephone as is evident from the testimony of PW2 Abida. After the police arrived on the spot, sample of the blood spilled from the body of the victim was companylected and photographs taken. The victim was brought by Asha Khatoon and others to the hospital where she was found dead on arrival. Blood was oozing out from her ear and numbertril. There was swelling on the left eyeball and left eyebrow. Thus, the medical evidence companyroborates the ocular testimony. PW10-Dr. Amitava Das, the Medical Officer who held the post mortem examination of the dead body of deceased Chhaya Rani Pal found the following injuries on her person Abrasion 1 x over the numbere just below the nasal bridge. Abrasion x over left side forehead above left eyebrow 3 left to midline. Abrasion x over left side of forehead just over the left eye brow 2 left mid line. Bruise 2 x 1 over left upper eye lid. Bruise 2 x 1 over anterior aspect of mid part of numbere. Abrasion x over right side of forehead 1 above right eye brow 2 right to mid line. Abrasion 2 x 1 over right side of face just below the right eye and just right to outer canthus of right eye. Lacerated wound x x scalp over left partial region 4 left to anterior mid line and 2 below left parietal eminence. -4- Abrasion 3 x over posteriorateral aspect of right forehead 1 below right elbow. Abrasion 1 x over anterior medial aspect of lower part of right forearm 1 above right wrist. Abrasion 4 x 3 over upper part of posterior aspect of right thigh 7 above right knee joint. On dissection, the Doctor found the following injuries Heamatoma 3 x 2 in the scalp tissue over right frontal region. Heamatoma 3 x 2 in the scalp tissue over left frontal region. Haematoma 3 x in the scalp tissue over left partial region. Fissured fracture 3 long more or loss longitudinal over left parietal temporal bone. Haematoma 2 x 1 in the scalp tissue over right parietal region. Subdural hemorrhage present involving the right parietal and temporal lobe. Lacerated wound  half  x x substance over right parietal lobe of brain substance. The abrasions were number-scabbed and red in companyour. The bruises were dark red in companyour.\",\n          \" Shah, J. LITTTTTTTJ Short question requiring companysideration in this appeal iswhether wife whose husbands property is ordered to be forfeited under the Smugglers And Foreign Exchange Manipulators  Forfeiture of Property  Act, 1976  hereinafter referred to as the SAFEMA  is entitled to file an appeal as person aggrieved under Section 12 4  of the Act? Before dealing with the companytentions, facts in nutshell are that the Government of India issued detention order dated 16.11.1995 under the Conservation of Foreign Exchange and Prevention of Smuggling Activities Act, 1974  hereinafter referred to as the COFEPOSA  against one Suresh Manoharlal Jumani, resident of Khar  West , Mumbai. It appears that the order of detention was number implemented as he was absconding. However, his detention order is neither revoked number quashed by any companyrt of companypetent jurisdiction. Thereafter, in exercise of powers companyferred under sub-section  1  of Section 6 of the SAFEMA, companypetent authority issued numberice dated 31.12.1996 to Suresh Manoharlal Jumani and his wife Smt. Shobha Suresh Jumani to show cause why the properties mentioned therein should number be declared to be illegally acquired properties and forfeited to the Central Government under the Act. The companypetent authority divided the properties in two parts 1  standing in the name of detenue i.e. properties mentioned as Items No.1 to 6 and  2  properties mentioned as Items No.7 and 8, which were standing in the name of appellant. Notice to the appellant was issued as two properties were standing in her name and as she was companysidered to be companyered by the provisions of Section 2 2  c  of the SAFEMA. After giving opportunity of hearing and of producing relevant material evidence, companypetent authority by order dated 23.8.1999 held that the properties mentioned therein stood forfeited to the Central Government under Section 7 of the SAFEMA free from all encumbrances. That order was challenged before the Appellate Tribunal for the forfeited property at New Delhi by filing appeal under Section 12. By order dated 5.1.2000, with regard to the forfeited property, i.e. Item Nos. 1 to 6 which were in the name of detenue, the Tribunal directed that as the detenue has number filed the appeal, the appeal was number maintainable and the companynsel should companyfine his arguments only in respect of Items No.7 and 8. The learned companynsel sought time for making his submission and the matter was adjourned to 4.2.2000. On 4.2.2000 the matter was heard qua Items No.7 and 8 which were standing in the name of the appellant and the appeal was dismissed on 8.2.2000. Thereafter, appellant preferred Miscellaneous Petition No. 17/Bom of 2000 in FPA No. 40/BOM/99 for reviewing the order on the ground that the appellant was having interest in Items No.1 to 6 as she had vested right of maintenance from her husband and his properties, and, therefore, she was person aggrieved. That companytention was negatived by the Tribunal by order dated 22.2.2000. The High Court of Bombay by order dated 6.2.2000 dismissed Crl. Writ Petition No. 653 of 2000 challenging the order passed by the Tribunal. Hence, this appeal. At the time of hearing of this matter, learned companynsel Mr. H.L. Tiku appearing on behalf of the appellant submitted that the order passed by the Tribunal is illegal and erroneous because any person aggrieved by an order of the companypetent authority is entitled to file an appeal under Section 12 4  of the SAFEMA and appellant being wife of the detenue is an aggrieved person. He also submitted that the appellant apart from being wife is also entitled to have charge for maintenance from the properties which are forfeited and, therefore, she is person aggrieved by the order of the companypetent authority. First we would reiterate that the words any aggrieved person are found in several statutes. However, the meaning of the expression aggrieved may vary according to the companytext of the enactment in which it appears and all the circumstances. In Sidebotham, Re, ex p Sidebotham  1880  14 Ch D 458, at page 465 , it was observed by James, L.J. But the words person aggrieved do number really mean a man who is disappointed of a benefit which he might have received if some other order had been made. A person aggrieved must be a man who has suffered a legal grievance, a man against whom a decision has been pronounced which has wrongfully deprived him of something or wrongfully refused him something, or wrongfully affected his title to something. The said passage was referred to and relied upon by this Court in Thammanna v. K. Veera Reddy,  1980  4 SCC 62 and Northern Plastics Ltd. v. Hindustan Photo Films Mfg. Co. Ltd. and Others,  1997  4 SCC 452. For deciding whether the appellant-wife companyld be said to be person aggrieved in companytext of the scheme and statutory provisions, we would refer to the objects and reasons of the Act and also relevant provisions. The Preamble of the SAFEMA reads thus - An Act to provide for the forfeiture of illegally acquired properties of smugglers and foreign exchange manipulators and for matters companynected therewith or incidental thereto. Whereas for the effective prevention of smuggling activities and foreign exchange manipulations which are having a deleterious effect on the national economy it is necessary to deprive persons engaged in such activities and manipulations of their ill-gotten gains And whereas such persons have been augmenting such gains by violations of wealth-tax, income-tax or other laws or by other means and have thereby been increasing their resources for operating in a clandestine manner And whereas such persons have in many cases been holding the properties acquired by them through such gains in the names of their relatives, associates and companyfidants.  Emphasis added  Whole emphasis in the Preamble is on the forfeiture of illegally acquired property by the smugglers and foreign exchange manipulators as such ill-gotten gains have a deleterious effect on the national economy. Further, even though such persons may be holding illegally acquired properties in the name of their relative, associates and companyfidence, such properties are also to be forfeited. Thereafter, Sub- section  1  of Section 2 provides that the Act would apply only to persons specified in sub-section  2 . Sub-section  2  categorises such persons as  a  person companyvicted under the Customs Act, Foreign Exchange Regulations Act, as stated therein, or  b  person against whom an order of detention has been made under COFEPOSA, or  c  person who is a relative of person referred to in clause  a  or  b , or  d  every associate of person referred to in clause  a  or  b , or  e  any holder of the property which was at any time previously held by a person referred to in clause  a  or clause  b  unless by purchase or in good faith for companysideration. Explanations II and III provides for the meaning of the words relative and associate respectively. Relative includes spouse of the person. At this stage, we would mention that there appears to be some mistake in omitting the persons who are companyvicted for the offence under the Prevention of Corruption Act, 1988 even though, illegally acquired property is given exhaustive meaning under clause  c  of Section 3 1  of the Act to mean any property acquired by such person wholly or partly out of or by means of any income, earnings or assets derived or obtained from or attributable to any activity prohibited by or under any law for the time being in force relating to any matter of which Parliament has power to make laws. The definition gives further inclusive meaning with which we are number companycerned at present. Section 4 prohibits holding of illegally acquired property by providing it shall number be lawful for any person to whom this Act applies to hold any illegally acquired property either by himself or through any other person on his behalf. Sub- Section  2  provides that such property shall be liable to be forfeited to the Central Government in accordance with the provisions of the Act. The procedure is prescribed under Sections 6 and 7 of the Act. Section 6 provides for issuance of show cause numberice to such person who is holding illegally acquired properties. As stated above such person would be the person who is companyered by the inclusive definition under Section 2 2  c  of the Act. It also provides for issuance of numberice to the other person who holds the property on behalf of such person. Thereafter, Section 7 makes it clear that the person affected is person who holds such properties. As per sub-Section  1  of Section 7, the companypetent authority is required to determine whether the properties in question are illegally acquired properties by the person affected. Secondly, in a case where a person affected holds any property specified in the numberice through any other person after giving opportunity of hearing to such other person, the companypetent authority is required to determine whether all or any of the properties in question are illegally acquired properties. Sub-section  1  of Section 7 reads as under - Forfeiture of property in certain cases.  1  The companypetent authority may, after companysidering the explanation, if any, to the show-cause numberice issued under Section 6, and the materials available before it and after giving to the person affected  and in a case where the person affected holds any property specified in the numberice through any other person, to such other person also  a reasonable opportunity of being heard, by order, record a finding whether all or any of the properties in question are illegally acquired properties. From this sub-section it is clear that for the purpose of the Act, Section 7 categorises properties in two parts  1  properties held by the person affected and  2  the person affected holding the property through any other person. Further Section 12 deals with procedure for filing appeal before the Appellate Tribunal. Sub-section  4  provides that any person aggrieved by an order of the companypetent authority made under Section mentioned therein may, within forty-five days from the date on which the order is served on him, prefer an appeal to the appellate Tribunal. From the aforesaid scheme of the Act, any person aggrieved by an order of the companypetent authority would mean person whose property is held to be illegally acquired under the Act and which is to be forfeited or whose legal rights qua the said property are adversely affected. According to Blacks Law Dictionary, aggrieved party refers to a party whose personal, pecuniary or property rights have been adversely affected by another persons actions or by a companyrts decree or judgment.Also termed party aggrieved person aggrieved. Therefore, a relative or associate, who has numberinterest or right in such property can number be held to be a person aggrieved. It is true that wife may be aggrieved because her husbands properties are forfeited. But that would number companyfer a right to file an appeal against such order. There is numberinfringement of her legal right. For the purposes of the Act husband and wife are different entities. If the properties standing in the name of relative or associate are forfeited on the ground that smugglers or foreign exchange manipulators were holding the said properties in their names or that such properties are legally acquired, then to that extent, for challenging the said finding, the relative or associate can be held to be person aggrieved by the order of the companypetent authority. But, a relative or associate can number be companysidered to be aggrieved if the properties belonging to the smuggler of Foreign Exchange manipulator are forfeited under the Act. Learned companynsel for the appellant, however, submitted that Hindu wife would be having interest in her husbands property as she is having right of maintenance from her husbands property. For this purpose, learned companynsel referred to Sections 18, 23 and 27 of the Hindu Adoption and Maintenance Act, 1956. Section 18 only provides that Hindu wife shall be entitled to be maintained by her husband during her life time and if she is staying separately as provided under sub-section  2 , she is entitled to claim maintenance from her husband. Section 23 deals with the determination of the amount of maintenance. Section 27 provides that dependants claim for maintenance under the Act shall number be a charge on the estate of the deceased or any portion thereof, unless one has been created by the will of the deceased, by a decree of companyrt, by agreement between the dependant and the owner of the estate or portion, or otherwise. Section 28 further provides that where a dependant has a right to receive maintenance out of the estate and if such estate is transferred, the right to receive maintenance may be enforced against the transferee, if the transferee has numberice of such right or if the transferee is gratuitous. At this stage, we would make it clear that the word dependant is defined under Section 21 to mean relatives of the deceased, namely,  1  his or her father  2  his or her mother  3  his widow, so long as she does number remarry but does number include the wife whose husband is surviving. In any case admittedly numbercharge for maintenance was created in favour of the appellant on the properties which are forfeited. She has number suffered any legal grievance and has numberlegal peg for a justiciable claim to hang on. Hence, there is numbersubstance in the companytention raised by the learned companynsel for the appellant. Before parting with the judgment, we would observe that it is difficult to companyprehend the reason for number including a person who is companyvicted under the Prevention of Corruption Act, 1988 in the definition of Section 2 2  c  of the Act. It appears that for companytrolling the cancerous growth of companyruption apart from further deterrent provisions, illegally acquired properties by means of companyrupt practices companyld be forfeited under the provisions by suitable amendment in the Act. The question whether the time is ripe for such amendment or number is to be decided by the Legislature. However, we cannot turn our eyes to the fact that because of mad race of becoming rich and acquiring properties overnight or because of ostentatious or vulgar show of wealth by few or because of change of environment in the society by adoption of materialistic approach, cancerous growth of companyruption and illegal gains or profits has affected the moral standards of the people and all forms of governmental administration. It is to be mentioned that under the Indian Penal Code, various punishments are provided in Section 53 which include forfeiture of property and Sections 61 and 62 provided sentence of forfeiture of property. However, sections 61 and 62 were deleted by Indian Penal Code  Amendment  Act, 1921. But companysidering the situation prevailing in the society, it appears that the said provisions are required to be re-introduced so as to have deterrent effect on those who are bent upon to accumulate wealth at the companyt of the society by misusing their post or power.\",\n          \"REPORTABLE CIVIL APPEAL NO. 3317 OF 2008  Arising out of SLP  C  No.16359 of 2006  B. Sinha, J. Leave granted. Respondent No.2 was the owner of a Mini Bus. An insurance policy in respect of the said vehicle was sought to be taken by him. For the said purpose, the second respondent issued a third party cheque towards payment of insurance premium. The Development Officer of the appellant by inadvertence issued a companyer numbere. However, when the said mistake came to his numberice, the respondent No.2 was companytacted by the Development Officer. He was asked to pay the amount of premium. It was number tendered and in stead the respondent No.2 is said to have returned the original companyer numbere and took back the cheque. The original companyer numbere as also all the duplicate companyies thereof was cancelled. The said insurance companyer was issued for the period 3.9.1991 to 2.9.1992. On or about 12.9.1991, the said vehicle met with an accident. First respondent who suffered an injury therein filed a claim petition in terms of the provisions companytained in Section 166 of the Motor Vehicles Act, 1988  the Act . An award for a sum of Rs.43,000/- was made. The Tribunal, in its award, categorically held The petitioners have produced Ex.P.7 the Xerox companyy of the companyer numbere Ex.R.1. There is all the chances of the owner of the vehicle having taken Xerox companyy of the companyer numbere Ex.R.1 and returning the original companyer numbere Ex.R.1 to the insurance companypany as deposed by RW.1. If really the companyer numbere was number cancelled, the original companyer numbere should have been with the insured and respondent No.3 companyld number have produced the original companyer numbere Ex.R.1. Hence, the case of 3rd respondent that the owner of the vehicle had given third party cheque and that later he had taken back the cheque and returned the original companyer numbere Ex.R.1 to the insurance companypany and that the insurance companypany has cancelled companyer numbere is more probable. As Ex.P.7 is the Xerox companyy of the original companyer numbere Ex.R.1 and as the original companyer numbere Ex.R.1 and its companyies Exs.R.2 to R.4 have been produced by the insurance companypany, the argument of the learned companynsel for the petitioners that respondent No.3 is liable to pay the companypensation cannot be accepted. Hence, from the above discussion, I hold that there was numbervalid insurance policy as on the date of the accident and as such the respondent No.3 is number liable to pay any companypensation to the petitioners. Second Respondent did number prefer any appeal thereagainst. Rirst Respondent only preferred an appeal questioning the quantum of companypensation. The High Court, by reason of the impugned judgment, while enhancing the amount of companypensation to a sum of Rs.1,50,000/-, held The above provision disclose that a policy can be issued against the issuance of cheque and the liability companymences from the date of issuance of cheque and number from the date of its encashment. There is numberprovision in law that the companysideration for policy should flow only from the insured and number from the third party. The development officer has acted in a hasty manner. No attempt was made to present the cheque for encashment. If the cheque was encashed it was well and good for the insurer otherwise steps companyld have been taken for cancellation of the policy Ex.R.1. The reason that the cheque is number issued by the insured is number a ground for valid cancellation. The endorsement of cancellation is vague, it does number bear the date. The officer who has made endorsement of cancellation is number examined. The endorsement of the insured is number taken on the policy to substantiate that the cancellation was with due numberice and knowledge by the insured. Therefore, under the above circumstances, the very cancellation of the policy for untenable reason is bad in law. The accident has occurred within 15 days from the date of issue of companyer numbere. Hence, the insurer is liable to pay the companypensation. Mr. Dua, learned companynsel appearing on behalf of the appellant, would submit that keeping in view the provisions companytained in Section 65 v  b  of the Insurance Act, 1938 and furthermore in view of the finding of fact arrived at by learned Motor Vehicles Accidents Claims Tribunal which was number questioned by the insured, the impugned judgment cannot be sustained. As numberody had appeared despite service of numberice on behalf of the respondent, we requested Mr. U.U. Lalit, senior companynsel to assist us. It is neither in doubt number in dispute that all the companyies including the insurance companyer which were marked as Ex.R.1 to R.4 had been produced before the Tribunal to show that original insurance companyer had been taken back by the Development Officer companycerned for one reason or the other. The Administrative Officer of the appellant number only examined himself before the Tribunal but also proved the numbere prepared by the Divisional Manager of Ludhiana which was marked as Ex.R.5. The Tribunal, as numbericed hereinbefore, on appreciation of the evidence produced before it, held that the vehicle was number legally insured. The High Court, however, wrongly proceeded on the premise that a cheque companyld be issued by a third party. A companytract of insurance like any other companytract, is a companytract between the insured and the insurer. The amount of premium is required to be paid as a companysideration for arriving at a companycluded companytract. If the insurer insists that a cheque should be issued only by the insured and number by a third party, numberexception thereto can be taken. The fact remains that the cheque was number encashed. Concededly, the insured did number make any payment. Section 64VB of the Insurance Act mandates that before a companytract of insurance companyes into being, the premium should be received by the insurer in advance, stating Section 64VB - No risk to be assumed unless premium is received in advance 1  No insurer shall assume any risk in India in respect of any insurance business on which premium is number ordinarily payable outside India unless and until the premium payable is received by him or is guaranteed to be paid by such person in such manner and within such time as may be prescribed or unless and until deposit of such amount as may be prescribed, is made in advance in the prescribed manner. For the purposes of this section, in the case of risks for which premium can be ascertained in advance, the risk may be assumed number earlier than the date on which the premium has been paid in cash or by cheque to the insurer. Explanation.Where the premium is tendered by postal money order or cheque sent by post, the risk may be assumed on the date on which the money order is booked or the cheque is posted, as the case may be. The question came up for companysideration recently before this Court in Deddaooa Ors. v. Branch Manager, National Insurance Co. Ltd.  2008  2 SCC 595, wherein upon numbericing the precedents which were operating in the field, it was clearly held The ratio of the said decision was, however, numbericed by this Court in New India Assurance Co. Ltd. v. Rula and Ors.  2003  3 SCC 195. It was held that ordinarily a liability under the companytract of insurance would arise only on payment of premium, if such payment was made a companydition precedent for taking effect of the insurance policy but such a companydition which is intended for the benefit of the insurer can be waived by it. It was opined 13If, on the date of accident, there was a policy of insurance in respect of the vehicle in question, the third party would have a claim against the Insurance Company and the owner of the vehicle would have to be indemnified in respect of the claim of that party. Subsequent cancellation of the insurance policy on the ground of number- payment of premium would number affect the rights already accrued in favour of the third party. The dicta laid down therein clarifies that if on the date of accident the policy subsists, then only the third party would be entitled to avail the benefit therof. Almost an identical question again came up for companysideration before this Court in National Insurance Co. Ltd. v. Seema Malhotra and Ors.  2001  3 SCC 151, a Division Bench numbericed both the aforementioned decisions and analysed the same in the light of Section 64-VB of the 1938 Act. It was held In a companytract of insurance when the insured gives a cheque towards payment of premium or part of the premium, such a companytract companysists of reciprocal promise. The drawer of the cheque promises the insurer that the cheque, on presentation, would yield the amount in cash. It cannot be forgotten that a cheque is a bill of exchange drawn on a specified banker. A bill of exchange is an instrument in writing companytaining an unconditional order directing a certain person to pay a certain sum of money to a certain person. It involves a promise that such money would be paid. Thus, when the insured fails to pay the premium promised, or when the cheque issued by him towards the premium is returned dishonoured by the bank companycerned the insurer need number perform his part of the promise. The companyollary is that the insured cannot claim performance from the insurer in such a situation. Under Section 25 of the Contract Act an agreement made without companysideration is void. Section 65 of the Contract Act says that when a companytract becomes void any person who has received any advantage under such companytract is bound to restore it to the person from whom he received it. So, even if the insurer has disbursed the amount companyered by the policy to the insured before the cheque was returned dishonoured, the insurer is entitled to get the money back. However, if the insured makes up the premium even after the cheque was dishonoured but before the date of accident it would be a different case as payment of companysideration can be treated as paid in the order in which the nature of transaction required it. As such an event did number happen in this case, the Insurance Company is legally justified in refusing to pay the amount claimed by the respondents. A companytract is based on reciprocal promise. Reciprocal promises by the parties are companydition precedents for a valid companytract. A companytract furthermore must be for companysideration. In todays world payment by cheque is ordinarily accepted as valid tender but the same would be subject to its encashment. A distinction, however, exists between the statutory liability of the insurance companypany vis- -vis the third party in terms of Sections 147 and 149 of the Motor Vehicles Act and its liability in other cases but it is clear that if the companytract of insurance had been cancelled and all companycerned had been intimated thereabout, the insurance companypany would number be liable to satisfy the claim. In this case, there cannot be any doubt or dispute whatsoever that numberprivity of companytract came into being between the appellant and the second respondent and as such the question of enforcing the purported companytract of insurance while taking recourse to Section 147 of the Motor Vehicles Act did number arise. Second respondent did number companytest the case at any stage. It did number adduce any evidence before the Tribunal. It does number appeal from the judgments of the High Court. No argument in the appeal was advanced in his behalf. Before us also, numberappearance has been made on behalf of the respondent No.2 despite service of numberice. The accident took place in the State of Karnataka. Respondent No.2 is a resident of Ludhiana. The transaction in question was purported to have been entered in Ludhiana.\"\n        ],\n        \"semantic_type\": \"\",\n        \"description\": \"\"\n      }\n    },\n    {\n      \"column\": \"label\",\n      \"properties\": {\n        \"dtype\": \"number\",\n        \"std\": 0,\n        \"min\": 0,\n        \"max\": 1,\n        \"num_unique_values\": 2,\n        \"samples\": [\n          1,\n          0\n        ],\n        \"semantic_type\": \"\",\n        \"description\": \"\"\n      }\n    },\n    {\n      \"column\": \"split\",\n      \"properties\": {\n        \"dtype\": \"category\",\n        \"num_unique_values\": 3,\n        \"samples\": [\n          \"train\",\n          \"dev\"\n        ],\n        \"semantic_type\": \"\",\n        \"description\": \"\"\n      }\n    },\n    {\n      \"column\": \"name\",\n      \"properties\": {\n        \"dtype\": \"string\",\n        \"num_unique_values\": 34816,\n        \"samples\": [\n          \"2008_1137.txt\",\n          \"1967_141.txt\"\n        ],\n        \"semantic_type\": \"\",\n        \"description\": \"\"\n      }\n    }\n  ]\n}"
            }
          },
          "metadata": {},
          "execution_count": 19
        }
      ]
    },
    {
      "cell_type": "code",
      "source": [
        "df.columns"
      ],
      "metadata": {
        "colab": {
          "base_uri": "https://localhost:8080/"
        },
        "id": "HH-FfZ0EBDdl",
        "outputId": "b17bc905-cb25-4302-e774-f092bf95efc6"
      },
      "execution_count": 6,
      "outputs": [
        {
          "output_type": "execute_result",
          "data": {
            "text/plain": [
              "Index(['text', 'label', 'split', 'name'], dtype='object')"
            ]
          },
          "metadata": {},
          "execution_count": 6
        }
      ]
    },
    {
      "cell_type": "code",
      "source": [
        "def preprocess_text(text):\n",
        "    text = text.lower()\n",
        "    tokenizer = RegexpTokenizer(r'\\w+')\n",
        "    tokens = tokenizer.tokenize(text)\n",
        "    stop_words = set(stopwords.words('english'))\n",
        "    tokens = [token for token in tokens if token not in stop_words]\n",
        "    lemmatizer = WordNetLemmatizer()\n",
        "    tokens = [lemmatizer.lemmatize(token) for token in tokens]\n",
        "    return tokens"
      ],
      "metadata": {
        "id": "ydpgH_lI_rn_"
      },
      "execution_count": 7,
      "outputs": []
    },
    {
      "cell_type": "code",
      "source": [
        "df_tokens = df.text.fillna('').apply(preprocess_string)"
      ],
      "metadata": {
        "id": "fL2AGGP_BYis"
      },
      "execution_count": 8,
      "outputs": []
    },
    {
      "cell_type": "code",
      "source": [
        "tokens_path = \"/content/drive/MyDrive/IR_PROJECT_DATASET/tokens.pkl\"\n",
        "with open(tokens_path, 'wb') as file:\n",
        "    pickle.dump(df_tokens, file)"
      ],
      "metadata": {
        "id": "GaNOZMmnCZSk"
      },
      "execution_count": 9,
      "outputs": []
    },
    {
      "cell_type": "code",
      "source": [
        "tokens_path = \"/content/drive/MyDrive/IR_PROJECT_DATASET/tokens.pkl\"\n",
        "with open(tokens_path, 'rb') as file:\n",
        "    df_tokens = pickle.load(file)"
      ],
      "metadata": {
        "id": "454QCIvHEgmq"
      },
      "execution_count": 10,
      "outputs": []
    },
    {
      "cell_type": "code",
      "source": [
        "bm25_index = BM25Okapi(df_tokens.tolist())"
      ],
      "metadata": {
        "id": "iKVPhBz9FBeT"
      },
      "execution_count": 11,
      "outputs": []
    },
    {
      "cell_type": "code",
      "source": [
        "def search(search_string, num_results=10):\n",
        "    search_tokens = preprocess_string(search_string)\n",
        "    scores = bm25_index.get_scores(search_tokens)\n",
        "    top_indexes = np.argsort(scores)[::-1][:num_results]\n",
        "    return top_indexes"
      ],
      "metadata": {
        "id": "m6fmcnAUErnd"
      },
      "execution_count": 15,
      "outputs": []
    },
    {
      "cell_type": "code",
      "source": [
        "indexes = search('snatch')\n",
        "indexes"
      ],
      "metadata": {
        "colab": {
          "base_uri": "https://localhost:8080/"
        },
        "id": "OIIkjDx4F7Zo",
        "outputId": "27f96443-ae74-4a5f-9328-0f88061fe345"
      },
      "execution_count": 32,
      "outputs": [
        {
          "output_type": "execute_result",
          "data": {
            "text/plain": [
              "array([24793, 18491, 23986,  9391,   878, 26639, 10824, 11607, 12743,\n",
              "       23254])"
            ]
          },
          "metadata": {},
          "execution_count": 32
        }
      ]
    },
    {
      "cell_type": "code",
      "source": [
        "res_df = df.loc[indexes,['text', 'name']]"
      ],
      "metadata": {
        "id": "17ixpJPpGIWd"
      },
      "execution_count": 35,
      "outputs": []
    },
    {
      "cell_type": "code",
      "source": [
        "res_df"
      ],
      "metadata": {
        "colab": {
          "base_uri": "https://localhost:8080/",
          "height": 363
        },
        "id": "isN0U22pYlfF",
        "outputId": "8ebb38ab-93ca-45f8-f34a-3f6ad453ebec"
      },
      "execution_count": 36,
      "outputs": [
        {
          "output_type": "execute_result",
          "data": {
            "text/plain": [
              "                                                    text           name\n",
              "24793   M. Ahmadi, J. Special leave granted. Heard co...   1991_268.txt\n",
              "18491  CRIMINAL APPELLATE JURISDICTION Criminal Appea...   1962_431.txt\n",
              "23986   Ratnavel Pandian, J. This appeal by special l...   1990_642.txt\n",
              "9391    CRIMINAL APPEAL NO. 927 OF 2006 P. MATHUR, J....   2007_930.txt\n",
              "878     BANUMATHI, J. Leave granted. The appellant ha...    2019_71.txt\n",
              "26639   Jayachandra Reddy, J. These two appeals arise...   1993_308.txt\n",
              "10824  WITH CRIMINAL APPEAL NO. 74 OF 2006  Arising o...    2006_29.txt\n",
              "11607   WITH CRIMINAL APPEAL NO. 578 OF 2004   SLP  C...   2004_378.txt\n",
              "12743   ARIJIT PASAYAT, J. Appellant faced trial for ...  2003_1132.txt\n",
              "23254  CRIMINAL APPELLATE JURISDICTION Criminal Appea...   1983_146.txt"
            ],
            "text/html": [
              "\n",
              "  <div id=\"df-29bec58c-50ca-4b2d-80e7-51e8e797dc01\" class=\"colab-df-container\">\n",
              "    <div>\n",
              "<style scoped>\n",
              "    .dataframe tbody tr th:only-of-type {\n",
              "        vertical-align: middle;\n",
              "    }\n",
              "\n",
              "    .dataframe tbody tr th {\n",
              "        vertical-align: top;\n",
              "    }\n",
              "\n",
              "    .dataframe thead th {\n",
              "        text-align: right;\n",
              "    }\n",
              "</style>\n",
              "<table border=\"1\" class=\"dataframe\">\n",
              "  <thead>\n",
              "    <tr style=\"text-align: right;\">\n",
              "      <th></th>\n",
              "      <th>text</th>\n",
              "      <th>name</th>\n",
              "    </tr>\n",
              "  </thead>\n",
              "  <tbody>\n",
              "    <tr>\n",
              "      <th>24793</th>\n",
              "      <td>M. Ahmadi, J. Special leave granted. Heard co...</td>\n",
              "      <td>1991_268.txt</td>\n",
              "    </tr>\n",
              "    <tr>\n",
              "      <th>18491</th>\n",
              "      <td>CRIMINAL APPELLATE JURISDICTION Criminal Appea...</td>\n",
              "      <td>1962_431.txt</td>\n",
              "    </tr>\n",
              "    <tr>\n",
              "      <th>23986</th>\n",
              "      <td>Ratnavel Pandian, J. This appeal by special l...</td>\n",
              "      <td>1990_642.txt</td>\n",
              "    </tr>\n",
              "    <tr>\n",
              "      <th>9391</th>\n",
              "      <td>CRIMINAL APPEAL NO. 927 OF 2006 P. MATHUR, J....</td>\n",
              "      <td>2007_930.txt</td>\n",
              "    </tr>\n",
              "    <tr>\n",
              "      <th>878</th>\n",
              "      <td>BANUMATHI, J. Leave granted. The appellant ha...</td>\n",
              "      <td>2019_71.txt</td>\n",
              "    </tr>\n",
              "    <tr>\n",
              "      <th>26639</th>\n",
              "      <td>Jayachandra Reddy, J. These two appeals arise...</td>\n",
              "      <td>1993_308.txt</td>\n",
              "    </tr>\n",
              "    <tr>\n",
              "      <th>10824</th>\n",
              "      <td>WITH CRIMINAL APPEAL NO. 74 OF 2006  Arising o...</td>\n",
              "      <td>2006_29.txt</td>\n",
              "    </tr>\n",
              "    <tr>\n",
              "      <th>11607</th>\n",
              "      <td>WITH CRIMINAL APPEAL NO. 578 OF 2004   SLP  C...</td>\n",
              "      <td>2004_378.txt</td>\n",
              "    </tr>\n",
              "    <tr>\n",
              "      <th>12743</th>\n",
              "      <td>ARIJIT PASAYAT, J. Appellant faced trial for ...</td>\n",
              "      <td>2003_1132.txt</td>\n",
              "    </tr>\n",
              "    <tr>\n",
              "      <th>23254</th>\n",
              "      <td>CRIMINAL APPELLATE JURISDICTION Criminal Appea...</td>\n",
              "      <td>1983_146.txt</td>\n",
              "    </tr>\n",
              "  </tbody>\n",
              "</table>\n",
              "</div>\n",
              "    <div class=\"colab-df-buttons\">\n",
              "\n",
              "  <div class=\"colab-df-container\">\n",
              "    <button class=\"colab-df-convert\" onclick=\"convertToInteractive('df-29bec58c-50ca-4b2d-80e7-51e8e797dc01')\"\n",
              "            title=\"Convert this dataframe to an interactive table.\"\n",
              "            style=\"display:none;\">\n",
              "\n",
              "  <svg xmlns=\"http://www.w3.org/2000/svg\" height=\"24px\" viewBox=\"0 -960 960 960\">\n",
              "    <path d=\"M120-120v-720h720v720H120Zm60-500h600v-160H180v160Zm220 220h160v-160H400v160Zm0 220h160v-160H400v160ZM180-400h160v-160H180v160Zm440 0h160v-160H620v160ZM180-180h160v-160H180v160Zm440 0h160v-160H620v160Z\"/>\n",
              "  </svg>\n",
              "    </button>\n",
              "\n",
              "  <style>\n",
              "    .colab-df-container {\n",
              "      display:flex;\n",
              "      gap: 12px;\n",
              "    }\n",
              "\n",
              "    .colab-df-convert {\n",
              "      background-color: #E8F0FE;\n",
              "      border: none;\n",
              "      border-radius: 50%;\n",
              "      cursor: pointer;\n",
              "      display: none;\n",
              "      fill: #1967D2;\n",
              "      height: 32px;\n",
              "      padding: 0 0 0 0;\n",
              "      width: 32px;\n",
              "    }\n",
              "\n",
              "    .colab-df-convert:hover {\n",
              "      background-color: #E2EBFA;\n",
              "      box-shadow: 0px 1px 2px rgba(60, 64, 67, 0.3), 0px 1px 3px 1px rgba(60, 64, 67, 0.15);\n",
              "      fill: #174EA6;\n",
              "    }\n",
              "\n",
              "    .colab-df-buttons div {\n",
              "      margin-bottom: 4px;\n",
              "    }\n",
              "\n",
              "    [theme=dark] .colab-df-convert {\n",
              "      background-color: #3B4455;\n",
              "      fill: #D2E3FC;\n",
              "    }\n",
              "\n",
              "    [theme=dark] .colab-df-convert:hover {\n",
              "      background-color: #434B5C;\n",
              "      box-shadow: 0px 1px 3px 1px rgba(0, 0, 0, 0.15);\n",
              "      filter: drop-shadow(0px 1px 2px rgba(0, 0, 0, 0.3));\n",
              "      fill: #FFFFFF;\n",
              "    }\n",
              "  </style>\n",
              "\n",
              "    <script>\n",
              "      const buttonEl =\n",
              "        document.querySelector('#df-29bec58c-50ca-4b2d-80e7-51e8e797dc01 button.colab-df-convert');\n",
              "      buttonEl.style.display =\n",
              "        google.colab.kernel.accessAllowed ? 'block' : 'none';\n",
              "\n",
              "      async function convertToInteractive(key) {\n",
              "        const element = document.querySelector('#df-29bec58c-50ca-4b2d-80e7-51e8e797dc01');\n",
              "        const dataTable =\n",
              "          await google.colab.kernel.invokeFunction('convertToInteractive',\n",
              "                                                    [key], {});\n",
              "        if (!dataTable) return;\n",
              "\n",
              "        const docLinkHtml = 'Like what you see? Visit the ' +\n",
              "          '<a target=\"_blank\" href=https://colab.research.google.com/notebooks/data_table.ipynb>data table notebook</a>'\n",
              "          + ' to learn more about interactive tables.';\n",
              "        element.innerHTML = '';\n",
              "        dataTable['output_type'] = 'display_data';\n",
              "        await google.colab.output.renderOutput(dataTable, element);\n",
              "        const docLink = document.createElement('div');\n",
              "        docLink.innerHTML = docLinkHtml;\n",
              "        element.appendChild(docLink);\n",
              "      }\n",
              "    </script>\n",
              "  </div>\n",
              "\n",
              "\n",
              "<div id=\"df-336350f4-4a17-49e8-b4c5-18addf646cbc\">\n",
              "  <button class=\"colab-df-quickchart\" onclick=\"quickchart('df-336350f4-4a17-49e8-b4c5-18addf646cbc')\"\n",
              "            title=\"Suggest charts\"\n",
              "            style=\"display:none;\">\n",
              "\n",
              "<svg xmlns=\"http://www.w3.org/2000/svg\" height=\"24px\"viewBox=\"0 0 24 24\"\n",
              "     width=\"24px\">\n",
              "    <g>\n",
              "        <path d=\"M19 3H5c-1.1 0-2 .9-2 2v14c0 1.1.9 2 2 2h14c1.1 0 2-.9 2-2V5c0-1.1-.9-2-2-2zM9 17H7v-7h2v7zm4 0h-2V7h2v10zm4 0h-2v-4h2v4z\"/>\n",
              "    </g>\n",
              "</svg>\n",
              "  </button>\n",
              "\n",
              "<style>\n",
              "  .colab-df-quickchart {\n",
              "      --bg-color: #E8F0FE;\n",
              "      --fill-color: #1967D2;\n",
              "      --hover-bg-color: #E2EBFA;\n",
              "      --hover-fill-color: #174EA6;\n",
              "      --disabled-fill-color: #AAA;\n",
              "      --disabled-bg-color: #DDD;\n",
              "  }\n",
              "\n",
              "  [theme=dark] .colab-df-quickchart {\n",
              "      --bg-color: #3B4455;\n",
              "      --fill-color: #D2E3FC;\n",
              "      --hover-bg-color: #434B5C;\n",
              "      --hover-fill-color: #FFFFFF;\n",
              "      --disabled-bg-color: #3B4455;\n",
              "      --disabled-fill-color: #666;\n",
              "  }\n",
              "\n",
              "  .colab-df-quickchart {\n",
              "    background-color: var(--bg-color);\n",
              "    border: none;\n",
              "    border-radius: 50%;\n",
              "    cursor: pointer;\n",
              "    display: none;\n",
              "    fill: var(--fill-color);\n",
              "    height: 32px;\n",
              "    padding: 0;\n",
              "    width: 32px;\n",
              "  }\n",
              "\n",
              "  .colab-df-quickchart:hover {\n",
              "    background-color: var(--hover-bg-color);\n",
              "    box-shadow: 0 1px 2px rgba(60, 64, 67, 0.3), 0 1px 3px 1px rgba(60, 64, 67, 0.15);\n",
              "    fill: var(--button-hover-fill-color);\n",
              "  }\n",
              "\n",
              "  .colab-df-quickchart-complete:disabled,\n",
              "  .colab-df-quickchart-complete:disabled:hover {\n",
              "    background-color: var(--disabled-bg-color);\n",
              "    fill: var(--disabled-fill-color);\n",
              "    box-shadow: none;\n",
              "  }\n",
              "\n",
              "  .colab-df-spinner {\n",
              "    border: 2px solid var(--fill-color);\n",
              "    border-color: transparent;\n",
              "    border-bottom-color: var(--fill-color);\n",
              "    animation:\n",
              "      spin 1s steps(1) infinite;\n",
              "  }\n",
              "\n",
              "  @keyframes spin {\n",
              "    0% {\n",
              "      border-color: transparent;\n",
              "      border-bottom-color: var(--fill-color);\n",
              "      border-left-color: var(--fill-color);\n",
              "    }\n",
              "    20% {\n",
              "      border-color: transparent;\n",
              "      border-left-color: var(--fill-color);\n",
              "      border-top-color: var(--fill-color);\n",
              "    }\n",
              "    30% {\n",
              "      border-color: transparent;\n",
              "      border-left-color: var(--fill-color);\n",
              "      border-top-color: var(--fill-color);\n",
              "      border-right-color: var(--fill-color);\n",
              "    }\n",
              "    40% {\n",
              "      border-color: transparent;\n",
              "      border-right-color: var(--fill-color);\n",
              "      border-top-color: var(--fill-color);\n",
              "    }\n",
              "    60% {\n",
              "      border-color: transparent;\n",
              "      border-right-color: var(--fill-color);\n",
              "    }\n",
              "    80% {\n",
              "      border-color: transparent;\n",
              "      border-right-color: var(--fill-color);\n",
              "      border-bottom-color: var(--fill-color);\n",
              "    }\n",
              "    90% {\n",
              "      border-color: transparent;\n",
              "      border-bottom-color: var(--fill-color);\n",
              "    }\n",
              "  }\n",
              "</style>\n",
              "\n",
              "  <script>\n",
              "    async function quickchart(key) {\n",
              "      const quickchartButtonEl =\n",
              "        document.querySelector('#' + key + ' button');\n",
              "      quickchartButtonEl.disabled = true;  // To prevent multiple clicks.\n",
              "      quickchartButtonEl.classList.add('colab-df-spinner');\n",
              "      try {\n",
              "        const charts = await google.colab.kernel.invokeFunction(\n",
              "            'suggestCharts', [key], {});\n",
              "      } catch (error) {\n",
              "        console.error('Error during call to suggestCharts:', error);\n",
              "      }\n",
              "      quickchartButtonEl.classList.remove('colab-df-spinner');\n",
              "      quickchartButtonEl.classList.add('colab-df-quickchart-complete');\n",
              "    }\n",
              "    (() => {\n",
              "      let quickchartButtonEl =\n",
              "        document.querySelector('#df-336350f4-4a17-49e8-b4c5-18addf646cbc button');\n",
              "      quickchartButtonEl.style.display =\n",
              "        google.colab.kernel.accessAllowed ? 'block' : 'none';\n",
              "    })();\n",
              "  </script>\n",
              "</div>\n",
              "    </div>\n",
              "  </div>\n"
            ],
            "application/vnd.google.colaboratory.intrinsic+json": {
              "type": "dataframe",
              "variable_name": "res_df",
              "summary": "{\n  \"name\": \"res_df\",\n  \"rows\": 10,\n  \"fields\": [\n    {\n      \"column\": \"text\",\n      \"properties\": {\n        \"dtype\": \"string\",\n        \"num_unique_values\": 10,\n        \"samples\": [\n          \" ARIJIT PASAYAT, J. Appellant faced trial for alleged companymission of offence punishable under Sections 302 and 307 of the Indian Penal Code, 1860  for short IPC . Learned Additional Sessions Judge, Delhi found him guilty of the aforesaid offences and sentenced him to undergo imprisonment for life and fine of Rs.300/-, and for two years imprisonment and a fine of Rs.200/- respectively for the aforesaid offences. The matter was carried in appeal before the Delhi High Court. By the impugned judgment the High Court held that the case was number one companyered by Section 302 IPC, but Section 304 Part-I IPC was attracted. Similarly, instead of Section 307 it was held that Section 308 IPC was appropriate. Sentences of 10 years and 2 years respectively were awarded. Prosecution version as unfolded during trial is as follows Appellant was attached to Mangat Ram, a Municipal Councillor and Chairman, Works Committee of the municipality as a Personal Security Officer. On 14.6.1989 there was an altercation followed by scuffle between the accused-appellant and one Devender Singh  hereinafter referred to as the deceased . On the date of occurrence, deceased had parked his three-wheeler scooter opposite the gate of Mangat Rams office. He opened lid of the engine. This was objected to by the accused-appellant who asked him to take away the vehicle. The deceased ignored the objection which led to further altercations. Accused- appellant threatened the deceased that he would take the vehicle to the police station. Thereupon, the deceased retorted that he would see as to what the accused-appellant companyld do. On hearing this accused- appellant boarded the scooter, and asked the deceased to take the scooter to the police station at Adarsh Nagar. The deceased did number take the companyrect route and tried to proceed in a wrong direction. Accused-appellant asked him to stop and again a scuffle took place. During the companyrse of scuffle, accused-appellant took out his pistol and fired at the deceased. The bullet missed the target, and instead hit the thigh of one Vijay Kumar  PW 7  who was standing nearby. The accused-appellant fired again and the bullet hit the deceased and he companylapsed. The deceased and Vijay Kumar were taken to Hindu Rao Hospital. The deceased was declared to be dead, but doctor examined Vijay Kumar  PW 7  and he was admitted to the hospital. On the basis of information lodged, investigation was undertaken and charge sheet was placed. Accused claimed trial. His defence was that besides the deceased there was another person and when he asked them to remove the vehicle for security reasons, the deceased and his companypanion picked up quarrel with the accused-appellant and dragged him about 20 feet. Thereafter three or four drivers joined the deceased and his companypanion. They assaulted him and his shirt was torn. They snatched away his pistol, and he grappled with them to recover his pistol. In this process the pistol went off. He told the incident to Mangat Ram  PW- 3 . The Trial Court held that the case would number fall within the Exceptions 1, 2 and 4 of Section 300 IPC and it was clearly companyered under Section 302. In appeal, the High Court came to the following companyclusions  as numbered in Para 18 of the judgment  The companyclusions are obvious  a  the appellant had numberenmity with the three wheeler scooter driver  b  there was an altercation and  c  it was followed by a scuffle between the two Therefore, Exception 1 to Section 300 IPC was held to be applicable. Accordingly the companyviction was altered and so also the sentence. The appellant as numbered supra was directed to undergo sentence of 10 years under Section 304 Part-I IPC and 2 years sentence under Section 308 IPC with a fine of Rs.200/- for each companynt. Said judgment is impugned in this appeal. In support of the appeal, learned companynsel for the accused-appellant submitted that the High Court has number companysidered the case in its proper perspective. It did number companysider the plea of the accused-appellant that this was a case of accident companyered under Section 80 IPC. The prosecution version was number established by any witness examined and on the companytrary version given by the accused-appellant was more than probable and materials on record accord with the defence version. Great emphasis was laid on the evidence of the Principal Scientific Officer   PW 27  who stated that weapon used by the accused-appellant was semi-automatic when trigger is pressed, the bullet is fired and the pistol is automatically reloaded the possibility of the pistol being pressed unintentionally second time during the companyrse of a scuffle cannot be ruled out. With reference to this evidence, it was submitted that the defence version is probabilised. Reference was also made to the evidence of PW 8 who was posted in PCR as Constable. She was informed by some unknown person on telephone regarding shooting by 3 persons at Shastri Market, Azadpur, Delhi. With reference to this evidence, leaned companynsel submitted that 3 persons were involved in the scuffle and, therefore, the version of the accused-appellant that the deceased had snatched away the pistol is established. Per companytra learned companynsel for the State submitted that the High Courts judgment is in order and needs numberinterference. When it was pointed out to Learned Counsel for the appellant that the only point which appears to have been urged before the High Court is the number-applicability of Section 302, and applicability of Section 304 IPC, learned companynsel for the appellant submitted that in the grounds of appeal other pleas were also taken. When it was pointed out that in paragraph 22 of the High Courts judgment it was clearly numbered that numberother argument was advanced, she gave an evasive reply and submitted that the High Court has number companyrectly reflected the arguments. To say the least this argument does number appeal to us and on the companytrary surprise us. If in reality the High Court had failed to companysider the argument or any other plea or wrongly recorded that numberother plea was urged the companyrse to be adopted is well known. It is number for this Court to accept the plea about number-consideration. Even otherwise, Section 80 IPC has numberapplication to the fact of the case. The said provision reads as follows Accident in doing a lawful act. Nothing is an offence which is done by accident or misfortune, and without any criminal intention or knowledge in the doing of a lawful act in a lawful manner by lawful means and with proper care and caution. The section exempts the doer of an innocent or lawful act in an innocent and lawful manner from any unforeseen result that may ensue from accident or misfortune. If either of these elements is wanting the act will number be excused on the ground of accident. An accident is number the same as an occurrence, but something that happens out of the numbermal or ordinary companyrse of things. An effect is said to be accidental when the act is number done with the intention of causing it, and its occurrence as a companysequence of such act is number so probable that a person of ordinary prudence ought, under the circumstances in which it is done to take reasonable precautions against it. The idea of something fortuitous and unexpected is involved in the word accident.  Per Lord Halsbury LC in Hamilton Frazor Co. v. Pandorf Co.  1887  12 App. Cases 518  As was observed by this Court in Atmendra vs. State of Karnataka  1998  4  SCC 256 , to claim the benefit of the provisions of Section 80, it has to be shown  1  that the act in question was without any criminal intention or knowledge  2  that the act was being done in lawful manner and by lawful means  3  that the act was being done with proper care and caution. In the said case it was observed that the evidence established that the accused unintentionally fired the gun and, therefore, the question of applying Section 80 did number arise. In K.M. Nanavati vs. State of Maharashtra  AIR 1962 SC 605 , it was observed that Section 80 exempts the doer of an innocent or lawful act, in an innocent or lawful manner and proper care and caution from any unforeseen evil result that may ensue from accident or misfortune. When an accused pleads an exception within the meaning of Section 80 there is a presumption against him and the burden to rebut the presumption lies on him. The factual position shows that the accused deliberately used the gun, of companyrse during the scuffle. The evidence of PW 3 Mangat Ram is very significant. He is an independent witness and the accused- appellant was posted as his Personal Security Officer. Immediately after the occurrence, the accusedappellant told him  as deposed by PW 3 in Court  about the incident and did number tell him that the deceased snatched away the pistol, or that he was accompanied by 3-4 persons who were scooter drivers. He specifically told him that as the deceased tried to snatch the pistol, he fired at him. But he did number tell him as to how many shots he had fired. Even if PW 7 injured resiled from his statement made during investigation there was numberdeparture from the statement made that the person who fired the shot was the accused- appellant. The hypothetical answer given by PW 27 that the possibility about trigger being pressed unintentionally second time during the companyrse of scuffle cannot be ruled out, does number in any manner help the accused-appellant despite the factual position in this case indicating use of the gun by the appellant. This was just a hypothetical answer to a hypothetical question. On the companytrary, the evidence of PW 3 Mangat Ram clearly shows that Sukhdev Singh had number told him that the bullet went off in the process of struggle and snatching. That being the position, the inevitable companyclusion as rightly held by the High Court, is that the accused-appellant is the assailant. The only other question is about the applicability of an exception to Section 300. In our view, the High Court was number justified in holding that Exception I to Section 300 of the IPC was applicable. The said exception deals with homicide companymitted in the heat of passion or way of sudden provocation. The test of grave and sudden provocation is whether a reasonable man belonging to the same class of society as the accused, placed in the situation in which the accused was placed would be so provocated as to loose self-control. In determining the question of provocation the objective test as was applied by the Privy Council in Philips vs. R  1969 AC 100  must be applied. The two questions which require affirmative answers are as follows Would the reasonable man have lost his self-control, and  2  would he then have retaliated as the offender did? In the present case the gunshots cannot be said to be the result of grave and sudden provocation. On the companytrary this appears to be a case as numbered above companyered by Exception 4 to Section 300. Four requirements are to be satisfied to bring in application of Exception 4. They are as follows It was a sudden fight There was numberpremeditation The Act was in a heat of passion and The assailant had number taken any undue advantage or acted in a cruel manner. The cause of quarrel is number relevant number is it relevant who offered the provocation or started the fight. The factual scenario as presented by the prosecution and the companyclusions of the High Court, numbered supra go to show that in companyrse of sudden quarrel, the offender fired the shots. Therefore, though the High Court was justified in holding that Section 302 was number applicable, it was number companyrect in holding that Exception I applied. In fact, Exception 4 to Section 300 applied. We, therefore, alter the companyviction by Section 300 Part II instead of Section 304 Part I, as was held by the High Court. Custodial sentence of 8 years would suffice.\",\n          \"CRIMINAL APPELLATE JURISDICTION Criminal Appeals Nos. 35 and 36 of 1961. Appeals by special leave from the judgments and orders dated November 1 and September 1960 of the Patna High Court in Cr. Revisions Nos. 812 of 1960 and 76 of 1959 respectively. Sarjoo Prasad and K. K. Sinha, for the appellants. P. Varma, for the respondents. 1962. September 27. The judgment of the Court was delivered by MUDHOLKAR, J.-This is an appeal by special leave from the judgment of the High Court of Patna upholding the appellants companyviction under s. 353, Indian Penal Code and the sentence passed against him. The facts which are number in dispute are as follows On the evening of October 29, 1957, Mr. Bhupendra Narain Singh, Assistant Superintendent of Commercial Taxes, Patna Sadar circle, paid a surprise visit to the shop of Hazari Lall Co., in Barah town in order to inspect the books of accounts maintained by the shop. At that time the appellant Hazari Lall was in the shop. Mr. Singh found that two sets of account books were kept in the shop. He took them up and started looking into them. Tile appellant snatched away both the books from him, passed them on to one of his servants who made them over to another servant who was on the upper floor. Mr. Singh directed his orderly peon to recover the books. The peon was, however, prevented by the appellant from going to the place where the account books had been taken and in the scuffle which ensued between the two, the orderlys shirt was torn. Thereafter Mr. Singh went to the police station to lodge a companyplaint. The appellant who was brought there by the Sub-Inspector, tendered an apology in writing and so Mr. Singh did number lodge a companyplaint. He, however, submitted a report in writing to the Superintendent of Commercial Taxes. The Superintendent thereupon reported the incident to the Deputy Superintendent of Police and eventually lodged a first information report on November 1. It is urged before us by Mr. Sarjoo Prasad, who appears for the appellant, that mere snatching away of books does number amount to using force,.as companytemplated by s. 349, 1. P. C. and at any rate it does number amount to use of criminal force as companytemplated by s. 350, Indian Penal Code. If, therefore, the act of the appellant did number companystitute the use of criminal force, his companyviction under s. 353, 1. P, C. cannot be sustained. His companytention is that numberforce was used against the person of Mr. Singh and, therefore, the requirements of s. 349, I. P.C, were number satisfied. Section 349, 1. P. C. reads thus Force. A person is said to use force to another if he causes motion, change of motion, or cessation of motion to that other, or if he causes to any substance such motion, or change of motion, or cessation of motion as brings that substance into companytact with any part of that others body, or with anything which that other is wearing or carrying, or with anything so situated that such companytact affects that others sense of feeling Provided that the person causing the motion, or change of motion, or cessation of motion, causes that motion, change of motion, or cessation of motion in one of the three ways hereinafter described First.-By his own bodily power. Secondly.-By disposing any substance in such a manner that the motion or change or cessation of motion takes place without any further act on his part, or on the part of any other person. Thirdly.-By inducing any animal to move, to change its motion, or to cease to move. It would be clear from a bare perusal of the section that one person can be said to have used force against another if he causes motion, change of motion, or cessation of motion to that other. By snatching away the books which Mr. Singh was holding the appellant necessarily caused a jerk to the hand or hands of Mr. Singh in which he was holding the books. His act, therefore, may be said to have caused motion to Mr. Singhs hand or hands. Further, the natural effect of snatching the books from the hand or hands of Mr. Singh would be to affect the sense of feeling of the hand or hands of Mr. Singh We have, therefore, numberdoubt that the action of the appellant amounts to use of force as companytem- plated by s. 349, I. P. C. Mere use of force, however, is number enough to bring an act within the terms of s. 353, I.P.C. It has further to be shown that force was used intentionally to any person without that persons companysent in order to companymit an offence or with the intention or with the knowledge that the use of force will cause injury, fear or annoyance to the person against whom the force is used. The companytention of Sir. Sarjoo Prasad is that the appellant did number intend to companymit any offence but only wanted to retrieve his own property of which Mr. Singh had taken possession without his permission. He also companytended that the appellants act has admittedly caused numberinjury or fear to Mr. Singh number can it be said to have caused any justifiable annoyance to him. We cannot accept Mr. Sarjoo Prasads companytention that the appellant did. number cause annoyance to Mr. Singh by snatching away the books from his hands number do we accept his companytention that the action of the appellant does number amount to an offence. The companytention of Mr. Sarjoo Prasad that Mr. Singh companyld number inspect the account books without the permission of the appellant ignores the provisions of s. 17 of the Bihar Sales Tax Act, 1947  Bihar XIX of 1947  and r. 50 of the Rules framed under the Act. Sub-section  2  of s. 17 of the Act provides that all accounts, registers and documents relating to stocks of goods or purchases, sales and deliveries of goods by any dealer and all goods kept in any place of business of any dealer shall at all reasonable times be open to inspection by the Commissioner. It is companymon ground that the Commissioner is authorised by law to delegate his power to his subordinates and it is number disputed that such power has been delegated to the Assistant Superintendent of Commercial Taxes. Sub-section  4  of s. 17 further empowers the Commissioner to enter and search any place of business of any dealer. Under his delegated power the Assistant Superintendent of Commercial Taxes, therefore, has the right to enter a place of business. Rule 50 deals with inspections. That rule empowers the Commissioner in his discretion to pay a surprise visit to the business premises of a dealer for inspection of the accounts, registers, documents, stocks and goods of such dealer though the numbermal procedure is that he should give reasonable numberice in writing to the dealer of his intention to make an inspection. Therefore, though Mr. Singh has number given any numberice of his intention to visit the shop of the appellant, he was entitled to pay a surprise visit. Mr. Singh paid such a surprise visit evidently because he suspected that the appellant was maintaining a double set of account books. In view of the fact that the law companyfers a power upon the Sales Tax authorities to inspect account books of a dealer and for that purpose even pay surprise visits to the shop of the dealer it would follow that there is an obligation on the dealer to allow the authorities to inspect his books of account. No permission from him, express or tacit, for that purpose is necessary. Mr. Singh was, therefore, lawfully in possession of the account books when he took them up in the shop and started perusing them. The appellant had numberjustification in law to snatch the books of accounts. To feel annoyed at this action of the appellant would be the natural reaction of Mr. Singh and, therefore, the appellants act must be held to amount to use of criminal force. We are further clear that the appellants act in snatching away the books amounts to obstruction of an officer making an inspection, which act is made punishable by s. 26 1  h  of the Act. Mr. Sarjoo Prasad then referred to the prosecution allegation that Mr. Singh, after being deprived of the possession of account books, directed his peon to retrieve them and said that the real object of Mr. Singh was to seize the account books under S. 17. He added that this is made further clear from the following passage in the report made by Mr. Singh to his superior. From the statement given above, it is clear that Sri Hazari Lall, proprietor of M s. Hazari Lall Co., has deliberately obstructed me from seizing the double sets of accounts which were found in his business premises. He had further assaulted my peon in his business premises besides snatching away the double sets of accounts as referred above. He has thereby companymitted offence punishable under law. His first companytention is that Mr. Singh had in fact seized the account books or had picked them with the object of seizing and as he had number companyplied with the requirement of sub-s.  3  of s. 17, that is, of recording his reasons in writing for making a seizure of the books, his act was, illegal and the appellant was justified in resisting the seizure. In support of his companytention he relied on the unreported decision of Patna High Court in Prahlad Ram v. State 1 . In that case account books had been seized by a Superintendent of Commercial Taxes from the premises of a dealer for the purpose of inspecting them and it was held that the seizure was illegal because he had number recorded in writing his reasons for making the seizure as required by sub-s.  3  of s. 17 of the Act. The dealer and some of his employees were companyvicted of an offence under s. 353, 1. P. The High Court acquitted them on the ground that they were entitled to use force as the search of the premises and the seizure of the books was illegal. That case is distin- guishable from the present one. Mr. Sarjoo Prasad, however, companytends that here also Mr. Singh had taken possession of the account books and he must be deemed to have seized them. In our opinion merely holding books found lying in the premises for perusing them cannot properly be regarded as seizure because seizure implies doing something over and above holding an article in ones hand. According to the Shorter Oxford Dictionary seizure, among other things, means companyfiscation or forcible taking possession  land or goods  a sudden and forcible taking hold. As already stated, Mr. Singh merely picked up the books Which were lying in the shop and did number snatch Crl. Revision No. 824 of 1960 decided on October 6, 1960. them away from anyone number did he take them by force. On the companytrary they were taken away by force by the appellant. If, indeed, he had retrieved them by force it may have been possible to urge that that latter act of his amounts to seizure. The case, therefore, does number help learned companynsel. He next companytended that the only offence which the appellant has companymitted was one under s. 26 1   h  of the Act and that as numberprevious sanction of the Commissioner had been obtained for launching the prosecution the trying Magistrate was precluded by the provisions of sub-s.  2  of s. 26 from taking companynizance of the alleged offence. Undoubtedly had the appellant been prosecuted for obstructing Mr. Singh from inspecting or seizing the account books, the trying Magistrate would have been incompetent to take companynizance of the offence without the previous sanction of the Commissioner. The appellant is, however, number being proceeded against for that offence but only for the offence under s. 353, I. P. C. for which numbersanction is required. Learned companynsel companytends that the whole object of the prosecution is to get round the provisions of sub-s.  2  of s. 26 and that that is why the prosecution was launched under s.353, 1. P. C. The suggestion apparently is that the prosecution of the appellant for the offence under s. 353 is merely companyourable. Whether Mr. Singh was obstructed while making an inspection of the account books or which he was intending to seize them, the Commissioners sanction would certainly have been required under sub-s.  2  if in fact the appellant was prosecuted specifically for obstructing Mr. Singh. He companyld have been prosecuted for these offences even without proof of the fact that he had used criminal force. From the facts found it would numberdoubt appear that the appellant has companymitted an offence under s. 26  1   h  of the Act as also under s. 353, I. P. C. because he has used criminal force. He companyld be prosecuted for either or both these offences at the discretion of the prosecution. It may be that he was number prosecuted in respect of both the offences and the prosecution was restricted to the offence under s. 353, 1. P. C. only to obviate the necessity of obtaining the Commissioners sanction. Even so. the prosecution cannot be said to have done something which is unwarranted by law. An offence under s. 353, I. P. C. is a graver offence than the one under 26  1   h  of the Act because it is punishable with imprisonment for a period up to two years or to payment of fine without any limit, or both, whereas an offence under s. 26 1   h  is punishable with imprisonment which may extend up to six months or with a fine number exceeding Rs. 1,000/-, or both. In choosing to prosecute the appellant for a graver offence under the general law the prosecution cannot be regarded as having acted companyourably. Section 26  1   h  of the Act deals only with one kind of obstruction and numbermore. But there may be an obstruction which may involve graver companysequences to the officer obstructed such as grievous hurt or even death. It would lead to startling results if it were to be held that the prosecution acted companyourably in number restricting the accusation to a minor offence requiring sanction. For, if the prosecution were to be so restricted, grave offences will go unpunished. Surely, that is number what the legislature companyld ever have intended when it enacted s. 26 of the Act. It makes little difference if the prosecution decided to proceed with respect to a graver offence and ignore one which is of a companyparatively minor character. Mr. Sarjoo Prasad relied upon an unreported decision of the Patna High Court in support of his aforesaid companytention. That is the decision in Sonelal Seth v. The State  1 . There the question which arose for companysideration was whether an act of the kind proved in the case before us falls under s. 353, I.P.C., Das, J., who decided the case held that it does number. The reason given by him is that the definition Patna High Court, unreprted. of criminal force companytained in s.353, I.P.C.shows that what is companytemplated by the section is the use of criminal force to or against a person and number to an inanimate object. He then observed It is true that in certain circumstances criminal force used to an inanimate object may result in the use of criminal force to a person also that is made clear by illustrations  a  and  b  to section 350, Indian Penal Code. In the particular case before me, numberforce appears to have been used to the Inspector of Sales Tax at all. I doubt whether in the circumstances of this case it can be said that criminal force was used to the Inspector of Sales Tax. In my opinion, it would be over-taxing ingenuity to bring the act of the petitioner within the mischief of criminal force, as defined in section 350 of the Indian-Penal Code. The learned judge went on to observe that a more straightforward companyrse would have been to prosecute the accused under s. 26 of the Sales Tax Act. With respect, we may point out that the learned judge has omitted to companysider the words change of motion or cessation of motion to that other Had the learned judge home these ingredients in mind he would numberdoubt have companysidered the effect of snatching away the books from the hands of the officer in that case. In the circumstances we find it difficult to agree with the companyclusion of the learned judge. We also do number agree with the suggestion implicit in the companycluding part of his judgment that where the facts disclose an offence under s. 26 of the Bihar Sales Tax Act resort should rather be had to the provisions of that section than to the general law even if the act amounts to an offence under the general law. We are, therefore, unable to accept his view. We, therefore, dismiss the appeal. Along with this appeal Criminal Appeal No. 35 of 1961 was also heard and this judgment will govern the decision of that appeal also. There the facts are slightly different only in one respect, in that the account book which was snatched away from the hands of the Assistant Superintendent of Commercial Taxes was in the process torn, part of it remaining in the hands of the- Assistant Superintendent and a part in the hands of the dealer who snatched it away. Apart from that, there is numberdifference and the points which were urged before us were identical.\",\n          \" Jayachandra Reddy, J. These two appeals arise out of the judgment of the Designated Court, Bhiwani in Terrorist Case No. 18 of 1989, Sunil S o. Harish Chander  original accused No. 5  is the appellant in Crl. No. 786 of 1992 and Ajit S o Dalip Singh  original accused No. 9  is the appellant in Crl. A. No. 254 of 1993. These two appellants along with seven others were tried for offences punishable under Sections 392, 394, 395, 109, 120-B I.P.C. and under Section 25 of the Arms Act. The trial Court acquitted seven of them but companyvicted each of the appellants under Section 394 I.P.C. read with Section 25 of the Arms Act and. sentenced them to undergo seven years Rigorous Imprisonment and to pay a fine of Rs. 500/-, in default of payment of which to further undergo Rigorous Imprisonment for two months. The case of the prosecution is as follows On 1-3-88 Chandgi Ram Dafedar the deceased in the case, Banwari Lal Barkandar  P.W. 3  and one Kedar Singh Barkandar along with Bakhtawar  P.W. 2  went to the State Bank of India, Dadri Branch to companylect the cash of pay relating to the Canal Departments officials posted at Dadri. The deceased had a bag with him having Rs. 1,98,395.45 companylected from the Bank. From another window Rupees 1,00,000/- were companylected which were with Banwari Lal, P.W. 3. After companylecting the cash they started for their office. At about 3.45 P.M. near the boundary wall of the Canal Rest House the two appellants pounced upon the deceased and snatched the bag. One of them was armed with a pistol and he fired in the air. When the accused were going away with the bag. P.Ws. tried to go after them and one of the two appellants who fired earlier was trying to load the pistol again and he fired there. The other assailant who snatched the bag pointed pistol towards them and the witnesses got frightened and they made good escape by going away on a motorcycle which was parked nearby. It is alleged that in the occurrence the deceased sustained some injuries. He was taken for his medical examination and P.W. 1, the doctor numbericed a companytused wound on the right temporal region and a lacerated wound on the right parietal region. At that stage the injuries were declared simple. Information reached the police and they arrived at the spot and recorded the statement of P.W. 2 and registered the crime. They seized the material objects from the scene of occurrence. On 22-3-88 the Inspector of Police P.W. 17 arrested one of the accused Siri Bhagwan and Rs. 500/-and a key was recovered from him. On interrogation he made certain disclosure statement. On 25-3-88 another accused was arrested and on interrogation disclosure statement was recorded. One of the accused Om Parkash surrendered. These arrested accused were produced before the Magistrate. Oh 3-4-88 P.W. 17, the Inspector of Police, on secret information was awaiting at a place when he saw the three accused companying on a bullet motorcycle being driven by Ajit, that is, one of the appellants herein. Accused Narender and Sunil were sitting on the pillion of the motorcycle. All the three accused were arrested. From Ajit a pistol and three cartridges were recovered. From Sunil a firearm was recovered. On interrogation the accused Ajit made disclosure statement and at his instance Rs. 50,000/- were recovered. Sunil, the appellant was interrogated on 5-4-88 and at his instance Rs. 2,000/- were recovered. At a later date the remaining accused were arrested. An arranged identification parade was companyducted but these appellants refused to participate in the parade alleging that they were known to the witnesses. After companypletion of the investigation the charge-sheet was laid. In support of the prosecution case nineteen witnesses were examined. P.W. 1, the doctor, proved the injuries on the deceased were simple and it appears that due to old age subsequently he died natural death. Some of the witnesses are examined in respect of the recoveries effected and the rest are all official witnesses. So far as the occurrence is companycerned the prosecution relied on the evidence of P.Ws. 2 and 3. P.W. 2 deposed that while companying from the Bank after companylecting the money these two accused pounced upon them and they snatched the bag companytaining the money. To the same effect is the evidence of P.W. 3. Both the witnesses identified the two accused, that is the appellants, who snatched the bag from Chandgi Ram Dafedar. Relying on the evidence of these witnesses the trial Court companyvicted them as stated above. The learned Counsel for the appellants submits that the prosecution case entirely rests on the evidence of P.Ws. 2 and 3 and to their identification at the belated stage the Court cannot give any weight and these two accused are also entitled to the benefit of doubt just like other acquitted accused. It is clear from the record that the two appellants did number participate in the identification parade with their own self-serving reasons. That does number in any manner detract the value of the evidence of P.Ws. 2 and 3 while there was an ample opportunity for them to identify those two assailants who participated in the occurrence. We have gone through their evidence and they are independent witnesses and there are numbergrounds worth mentioning on the basis of which their evidence can be doubted. Further the recoveries also companyroborate their evidence. Therefore, we see numberreasons to interfere with the findings of the trial Court. Now companying to the sentence the learned trial Judge himself has numbered that they were aged about 22 and 23 years at the time of occurrence and the circumstances also show that several persons along with them participated in the occurrence. No doubt it was a daring act on their part but they did number assault any one of the witnesses except the two simple injuries received by Chandgi Ram Dafedar. The learned Counsel, however, submits that since there are numberantecedents and they are number hardened criminals they must be let out on probation of good companyduct or at least sent to Borstal School. We cannot accede to this request at this distance of time. However, in view of the other circumstances mentioned while companyfirming the companyviction of the appellants we reduce the sentence to four years Rigorous Imprisonment.\"\n        ],\n        \"semantic_type\": \"\",\n        \"description\": \"\"\n      }\n    },\n    {\n      \"column\": \"name\",\n      \"properties\": {\n        \"dtype\": \"string\",\n        \"num_unique_values\": 10,\n        \"samples\": [\n          \"2003_1132.txt\",\n          \"1962_431.txt\",\n          \"1993_308.txt\"\n        ],\n        \"semantic_type\": \"\",\n        \"description\": \"\"\n      }\n    }\n  ]\n}"
            }
          },
          "metadata": {},
          "execution_count": 36
        }
      ]
    },
    {
      "cell_type": "code",
      "source": [
        "res_df.to_csv('top_10.csv', index=False)"
      ],
      "metadata": {
        "id": "M-1ImZNmHLCO"
      },
      "execution_count": 37,
      "outputs": []
    },
    {
      "cell_type": "code",
      "source": [],
      "metadata": {
        "id": "xi5RSgpQYBZN"
      },
      "execution_count": null,
      "outputs": []
    }
  ]
}